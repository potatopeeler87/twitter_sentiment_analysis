{
 "cells": [
  {
   "cell_type": "code",
   "execution_count": 1,
   "metadata": {},
   "outputs": [],
   "source": [
    "import re\n",
    "\n",
    "import langid\n",
    "import numpy as np\n",
    "import pandas as pd"
   ]
  },
  {
   "cell_type": "code",
   "execution_count": 2,
   "metadata": {},
   "outputs": [],
   "source": [
    "df_filename = \"tweets_Lululemon.csv\"\n",
    "df = pd.read_csv(df_filename, index_col='id', low_memory = False)"
   ]
  },
  {
   "cell_type": "code",
   "execution_count": 3,
   "metadata": {},
   "outputs": [],
   "source": [
    "df['timestamp'] = pd.to_datetime(df['timestamp'])\n",
    "df['date'] = df['timestamp'].dt.date"
   ]
  },
  {
   "cell_type": "code",
   "execution_count": 4,
   "metadata": {},
   "outputs": [
    {
     "data": {
      "text/html": [
       "<div>\n",
       "<style scoped>\n",
       "    .dataframe tbody tr th:only-of-type {\n",
       "        vertical-align: middle;\n",
       "    }\n",
       "\n",
       "    .dataframe tbody tr th {\n",
       "        vertical-align: top;\n",
       "    }\n",
       "\n",
       "    .dataframe thead th {\n",
       "        text-align: right;\n",
       "    }\n",
       "</style>\n",
       "<table border=\"1\" class=\"dataframe\">\n",
       "  <thead>\n",
       "    <tr style=\"text-align: right;\">\n",
       "      <th></th>\n",
       "      <th>timestamp</th>\n",
       "      <th>content</th>\n",
       "      <th>username</th>\n",
       "      <th>date</th>\n",
       "    </tr>\n",
       "    <tr>\n",
       "      <th>id</th>\n",
       "      <th></th>\n",
       "      <th></th>\n",
       "      <th></th>\n",
       "      <th></th>\n",
       "    </tr>\n",
       "  </thead>\n",
       "  <tbody>\n",
       "    <tr>\n",
       "      <th>1174835548688531456</th>\n",
       "      <td>2019-09-19 23:59:56+00:00</td>\n",
       "      <td>Check out what I just added to my closet on Po...</td>\n",
       "      <td>rhapsody112</td>\n",
       "      <td>2019-09-19</td>\n",
       "    </tr>\n",
       "    <tr>\n",
       "      <th>1174834981811572736</th>\n",
       "      <td>2019-09-19 23:57:41+00:00</td>\n",
       "      <td>Check out what I just added to my closet on Po...</td>\n",
       "      <td>rhapsody112</td>\n",
       "      <td>2019-09-19</td>\n",
       "    </tr>\n",
       "    <tr>\n",
       "      <th>1174834959170715648</th>\n",
       "      <td>2019-09-19 23:57:36+00:00</td>\n",
       "      <td>@lisarunz @lululemon Lol...if I had time I wou...</td>\n",
       "      <td>keepitrealmom</td>\n",
       "      <td>2019-09-19</td>\n",
       "    </tr>\n",
       "    <tr>\n",
       "      <th>1174834162412355584</th>\n",
       "      <td>2019-09-19 23:54:26+00:00</td>\n",
       "      <td>Check out what I just added to my closet on Po...</td>\n",
       "      <td>GoodBadStupid</td>\n",
       "      <td>2019-09-19</td>\n",
       "    </tr>\n",
       "    <tr>\n",
       "      <th>1174832820121821186</th>\n",
       "      <td>2019-09-19 23:49:06+00:00</td>\n",
       "      <td>Check out what I just added to my closet on Po...</td>\n",
       "      <td>PiazzaTalia</td>\n",
       "      <td>2019-09-19</td>\n",
       "    </tr>\n",
       "  </tbody>\n",
       "</table>\n",
       "</div>"
      ],
      "text/plain": [
       "                                    timestamp  \\\n",
       "id                                              \n",
       "1174835548688531456 2019-09-19 23:59:56+00:00   \n",
       "1174834981811572736 2019-09-19 23:57:41+00:00   \n",
       "1174834959170715648 2019-09-19 23:57:36+00:00   \n",
       "1174834162412355584 2019-09-19 23:54:26+00:00   \n",
       "1174832820121821186 2019-09-19 23:49:06+00:00   \n",
       "\n",
       "                                                               content  \\\n",
       "id                                                                       \n",
       "1174835548688531456  Check out what I just added to my closet on Po...   \n",
       "1174834981811572736  Check out what I just added to my closet on Po...   \n",
       "1174834959170715648  @lisarunz @lululemon Lol...if I had time I wou...   \n",
       "1174834162412355584  Check out what I just added to my closet on Po...   \n",
       "1174832820121821186  Check out what I just added to my closet on Po...   \n",
       "\n",
       "                          username        date  \n",
       "id                                              \n",
       "1174835548688531456    rhapsody112  2019-09-19  \n",
       "1174834981811572736    rhapsody112  2019-09-19  \n",
       "1174834959170715648  keepitrealmom  2019-09-19  \n",
       "1174834162412355584  GoodBadStupid  2019-09-19  \n",
       "1174832820121821186    PiazzaTalia  2019-09-19  "
      ]
     },
     "execution_count": 4,
     "metadata": {},
     "output_type": "execute_result"
    }
   ],
   "source": [
    "df.head()"
   ]
  },
  {
   "cell_type": "code",
   "execution_count": 5,
   "metadata": {},
   "outputs": [],
   "source": [
    "#Clean the text and drop tweets that have only tags (probably those with multimedia items)\n",
    "def clean_content(text):\n",
    "   list_content = text.split()\n",
    "   list_content_new = []\n",
    "   list_content_new[:] = [tup for tup in list_content if (tup[0] != \"@\" and tup[:4] != \"http\")]\n",
    "   temp_phrase = re.sub(\"[^a-zA-Z0-9 \\’\\']\",\"\",' '.join(list_content_new))\n",
    "   temp_phrase = temp_phrase.replace(\"’\", \"'\")\n",
    "   temp_l = temp_phrase.split()\n",
    "   temp_phrase = ' '.join(temp_l)\n",
    "   return temp_phrase\n",
    "\n",
    "df['clean_content'] = ''\n",
    "df['clean_content'] = df.apply(lambda row: clean_content(row['content']), axis = 1)\n",
    "df['clean_content'].replace('', np.nan, inplace=True)\n",
    "df.dropna(subset=['clean_content'], inplace=True)\n"
   ]
  },
  {
   "cell_type": "code",
   "execution_count": 6,
   "metadata": {},
   "outputs": [],
   "source": [
    "def find_lang(content_str):\n",
    "    lang = langid.classify(content_str)\n",
    "    return lang[0]\n",
    "df['lang'] = df.apply(lambda row: find_lang(row['clean_content']), axis = 1)"
   ]
  },
  {
   "cell_type": "code",
   "execution_count": 9,
   "metadata": {},
   "outputs": [
    {
     "data": {
      "text/plain": [
       "(124, 6)"
      ]
     },
     "execution_count": 9,
     "metadata": {},
     "output_type": "execute_result"
    }
   ],
   "source": [
    "df[df['lang']!='en'].shape"
   ]
  },
  {
   "cell_type": "code",
   "execution_count": 39,
   "metadata": {},
   "outputs": [
    {
     "data": {
      "text/html": [
       "<div>\n",
       "<style scoped>\n",
       "    .dataframe tbody tr th:only-of-type {\n",
       "        vertical-align: middle;\n",
       "    }\n",
       "\n",
       "    .dataframe tbody tr th {\n",
       "        vertical-align: top;\n",
       "    }\n",
       "\n",
       "    .dataframe thead th {\n",
       "        text-align: right;\n",
       "    }\n",
       "</style>\n",
       "<table border=\"1\" class=\"dataframe\">\n",
       "  <thead>\n",
       "    <tr style=\"text-align: right;\">\n",
       "      <th></th>\n",
       "      <th>timestamp</th>\n",
       "      <th>content</th>\n",
       "      <th>username</th>\n",
       "      <th>date</th>\n",
       "      <th>lang</th>\n",
       "      <th>clean_content</th>\n",
       "    </tr>\n",
       "    <tr>\n",
       "      <th>id</th>\n",
       "      <th></th>\n",
       "      <th></th>\n",
       "      <th></th>\n",
       "      <th></th>\n",
       "      <th></th>\n",
       "      <th></th>\n",
       "    </tr>\n",
       "  </thead>\n",
       "  <tbody>\n",
       "    <tr>\n",
       "      <th>1174835548688531456</th>\n",
       "      <td>2019-09-19 23:59:56+00:00</td>\n",
       "      <td>Check out what I just added to my closet on Po...</td>\n",
       "      <td>rhapsody112</td>\n",
       "      <td>2019-09-19</td>\n",
       "      <td>en</td>\n",
       "      <td>Check out what I just added to my closet on Po...</td>\n",
       "    </tr>\n",
       "    <tr>\n",
       "      <th>1174834981811572736</th>\n",
       "      <td>2019-09-19 23:57:41+00:00</td>\n",
       "      <td>Check out what I just added to my closet on Po...</td>\n",
       "      <td>rhapsody112</td>\n",
       "      <td>2019-09-19</td>\n",
       "      <td>en</td>\n",
       "      <td>Check out what I just added to my closet on Po...</td>\n",
       "    </tr>\n",
       "    <tr>\n",
       "      <th>1174834959170715648</th>\n",
       "      <td>2019-09-19 23:57:36+00:00</td>\n",
       "      <td>@lisarunz @lululemon Lol...if I had time I wou...</td>\n",
       "      <td>keepitrealmom</td>\n",
       "      <td>2019-09-19</td>\n",
       "      <td>en</td>\n",
       "      <td>Lolif I had time I would Social Working is all...</td>\n",
       "    </tr>\n",
       "    <tr>\n",
       "      <th>1174834162412355584</th>\n",
       "      <td>2019-09-19 23:54:26+00:00</td>\n",
       "      <td>Check out what I just added to my closet on Po...</td>\n",
       "      <td>GoodBadStupid</td>\n",
       "      <td>2019-09-19</td>\n",
       "      <td>en</td>\n",
       "      <td>Check out what I just added to my closet on Po...</td>\n",
       "    </tr>\n",
       "    <tr>\n",
       "      <th>1174832820121821186</th>\n",
       "      <td>2019-09-19 23:49:06+00:00</td>\n",
       "      <td>Check out what I just added to my closet on Po...</td>\n",
       "      <td>PiazzaTalia</td>\n",
       "      <td>2019-09-19</td>\n",
       "      <td>en</td>\n",
       "      <td>Check out what I just added to my closet on Po...</td>\n",
       "    </tr>\n",
       "  </tbody>\n",
       "</table>\n",
       "</div>"
      ],
      "text/plain": [
       "                                    timestamp  \\\n",
       "id                                              \n",
       "1174835548688531456 2019-09-19 23:59:56+00:00   \n",
       "1174834981811572736 2019-09-19 23:57:41+00:00   \n",
       "1174834959170715648 2019-09-19 23:57:36+00:00   \n",
       "1174834162412355584 2019-09-19 23:54:26+00:00   \n",
       "1174832820121821186 2019-09-19 23:49:06+00:00   \n",
       "\n",
       "                                                               content  \\\n",
       "id                                                                       \n",
       "1174835548688531456  Check out what I just added to my closet on Po...   \n",
       "1174834981811572736  Check out what I just added to my closet on Po...   \n",
       "1174834959170715648  @lisarunz @lululemon Lol...if I had time I wou...   \n",
       "1174834162412355584  Check out what I just added to my closet on Po...   \n",
       "1174832820121821186  Check out what I just added to my closet on Po...   \n",
       "\n",
       "                          username        date lang  \\\n",
       "id                                                    \n",
       "1174835548688531456    rhapsody112  2019-09-19   en   \n",
       "1174834981811572736    rhapsody112  2019-09-19   en   \n",
       "1174834959170715648  keepitrealmom  2019-09-19   en   \n",
       "1174834162412355584  GoodBadStupid  2019-09-19   en   \n",
       "1174832820121821186    PiazzaTalia  2019-09-19   en   \n",
       "\n",
       "                                                         clean_content  \n",
       "id                                                                      \n",
       "1174835548688531456  Check out what I just added to my closet on Po...  \n",
       "1174834981811572736  Check out what I just added to my closet on Po...  \n",
       "1174834959170715648  Lolif I had time I would Social Working is all...  \n",
       "1174834162412355584  Check out what I just added to my closet on Po...  \n",
       "1174832820121821186  Check out what I just added to my closet on Po...  "
      ]
     },
     "execution_count": 39,
     "metadata": {},
     "output_type": "execute_result"
    }
   ],
   "source": [
    "df.head()"
   ]
  },
  {
   "cell_type": "code",
   "execution_count": 40,
   "metadata": {},
   "outputs": [
    {
     "data": {
      "text/html": [
       "<div>\n",
       "<style scoped>\n",
       "    .dataframe tbody tr th:only-of-type {\n",
       "        vertical-align: middle;\n",
       "    }\n",
       "\n",
       "    .dataframe tbody tr th {\n",
       "        vertical-align: top;\n",
       "    }\n",
       "\n",
       "    .dataframe thead th {\n",
       "        text-align: right;\n",
       "    }\n",
       "</style>\n",
       "<table border=\"1\" class=\"dataframe\">\n",
       "  <thead>\n",
       "    <tr style=\"text-align: right;\">\n",
       "      <th></th>\n",
       "      <th>timestamp</th>\n",
       "      <th>content</th>\n",
       "      <th>username</th>\n",
       "      <th>lang</th>\n",
       "      <th>clean_content</th>\n",
       "    </tr>\n",
       "    <tr>\n",
       "      <th>date</th>\n",
       "      <th></th>\n",
       "      <th></th>\n",
       "      <th></th>\n",
       "      <th></th>\n",
       "      <th></th>\n",
       "    </tr>\n",
       "  </thead>\n",
       "  <tbody>\n",
       "    <tr>\n",
       "      <th>2019-09-15</th>\n",
       "      <td>357</td>\n",
       "      <td>355</td>\n",
       "      <td>208</td>\n",
       "      <td>16</td>\n",
       "      <td>343</td>\n",
       "    </tr>\n",
       "    <tr>\n",
       "      <th>2019-09-16</th>\n",
       "      <td>347</td>\n",
       "      <td>346</td>\n",
       "      <td>201</td>\n",
       "      <td>11</td>\n",
       "      <td>341</td>\n",
       "    </tr>\n",
       "    <tr>\n",
       "      <th>2019-09-17</th>\n",
       "      <td>451</td>\n",
       "      <td>447</td>\n",
       "      <td>256</td>\n",
       "      <td>19</td>\n",
       "      <td>432</td>\n",
       "    </tr>\n",
       "    <tr>\n",
       "      <th>2019-09-18</th>\n",
       "      <td>373</td>\n",
       "      <td>371</td>\n",
       "      <td>243</td>\n",
       "      <td>20</td>\n",
       "      <td>362</td>\n",
       "    </tr>\n",
       "    <tr>\n",
       "      <th>2019-09-19</th>\n",
       "      <td>392</td>\n",
       "      <td>392</td>\n",
       "      <td>235</td>\n",
       "      <td>13</td>\n",
       "      <td>389</td>\n",
       "    </tr>\n",
       "  </tbody>\n",
       "</table>\n",
       "</div>"
      ],
      "text/plain": [
       "            timestamp  content  username  lang  clean_content\n",
       "date                                                         \n",
       "2019-09-15        357      355       208    16            343\n",
       "2019-09-16        347      346       201    11            341\n",
       "2019-09-17        451      447       256    19            432\n",
       "2019-09-18        373      371       243    20            362\n",
       "2019-09-19        392      392       235    13            389"
      ]
     },
     "execution_count": 40,
     "metadata": {},
     "output_type": "execute_result"
    }
   ],
   "source": [
    "df.groupby('date').nunique()"
   ]
  },
  {
   "cell_type": "code",
   "execution_count": 20,
   "metadata": {},
   "outputs": [
    {
     "data": {
      "text/plain": [
       "lang\n",
       "af       4\n",
       "ca       1\n",
       "cs       2\n",
       "cy       3\n",
       "da       6\n",
       "de       6\n",
       "en    1788\n",
       "es       9\n",
       "et       9\n",
       "fi       1\n",
       "fr      13\n",
       "it       3\n",
       "nl       4\n",
       "no       4\n",
       "pl       1\n",
       "pt       1\n",
       "ro      56\n",
       "so       5\n",
       "sv       3\n",
       "sw       1\n",
       "tl       7\n",
       "tr       5\n",
       "vi       2\n",
       "dtype: int64"
      ]
     },
     "execution_count": 20,
     "metadata": {},
     "output_type": "execute_result"
    }
   ],
   "source": [
    "df.groupby('lang').size()"
   ]
  },
  {
   "cell_type": "code",
   "execution_count": 10,
   "metadata": {},
   "outputs": [],
   "source": [
    "df_eng = df[df['lang']=='en'].copy(deep=True)"
   ]
  },
  {
   "cell_type": "code",
   "execution_count": 11,
   "metadata": {},
   "outputs": [],
   "source": [
    "df_eng.to_csv('Lululemon_tweets_en.csv')\n",
    "df.to_csv('tweets_Lululemon_processed.csv')"
   ]
  },
  {
   "cell_type": "code",
   "execution_count": null,
   "metadata": {},
   "outputs": [],
   "source": []
  }
 ],
 "metadata": {
  "interpreter": {
   "hash": "b0fa6594d8f4cbf19f97940f81e996739fb7646882a419484c72d19e05852a7e"
  },
  "kernelspec": {
   "display_name": "Python 3.9.6 64-bit",
   "language": "python",
   "name": "python3"
  },
  "language_info": {
   "codemirror_mode": {
    "name": "ipython",
    "version": 3
   },
   "file_extension": ".py",
   "mimetype": "text/x-python",
   "name": "python",
   "nbconvert_exporter": "python",
   "pygments_lexer": "ipython3",
   "version": "3.9.6"
  },
  "orig_nbformat": 4
 },
 "nbformat": 4,
 "nbformat_minor": 2
}
