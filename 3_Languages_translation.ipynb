{
 "cells": [
  {
   "cell_type": "markdown",
   "metadata": {},
   "source": [
    "<h3>This part is a bit sloppy but it works, there are better ways to translate large portion of texts, using vectorized operations and transformers"
   ]
  },
  {
   "cell_type": "code",
   "execution_count": 13,
   "metadata": {},
   "outputs": [],
   "source": [
    "import pandas as pd\n",
    "from googletrans import Translator"
   ]
  },
  {
   "cell_type": "code",
   "execution_count": 14,
   "metadata": {},
   "outputs": [],
   "source": [
    "filename = \"tweets_Lululemon_processed.csv\"\n",
    "df = pd.read_csv(filename, index_col='id', low_memory = False)\n",
    "df_langs = df[df['lang']!='en'].copy(deep=True)"
   ]
  },
  {
   "cell_type": "code",
   "execution_count": 15,
   "metadata": {},
   "outputs": [
    {
     "data": {
      "text/plain": [
       "(212, 6)"
      ]
     },
     "execution_count": 15,
     "metadata": {},
     "output_type": "execute_result"
    }
   ],
   "source": [
    "df_langs.shape"
   ]
  },
  {
   "cell_type": "code",
   "execution_count": 16,
   "metadata": {},
   "outputs": [
    {
     "data": {
      "text/html": [
       "<div>\n",
       "<style scoped>\n",
       "    .dataframe tbody tr th:only-of-type {\n",
       "        vertical-align: middle;\n",
       "    }\n",
       "\n",
       "    .dataframe tbody tr th {\n",
       "        vertical-align: top;\n",
       "    }\n",
       "\n",
       "    .dataframe thead th {\n",
       "        text-align: right;\n",
       "    }\n",
       "</style>\n",
       "<table border=\"1\" class=\"dataframe\">\n",
       "  <thead>\n",
       "    <tr style=\"text-align: right;\">\n",
       "      <th></th>\n",
       "      <th>timestamp</th>\n",
       "      <th>content</th>\n",
       "      <th>username</th>\n",
       "      <th>date</th>\n",
       "      <th>lang</th>\n",
       "      <th>clean_content</th>\n",
       "    </tr>\n",
       "    <tr>\n",
       "      <th>id</th>\n",
       "      <th></th>\n",
       "      <th></th>\n",
       "      <th></th>\n",
       "      <th></th>\n",
       "      <th></th>\n",
       "      <th></th>\n",
       "    </tr>\n",
       "  </thead>\n",
       "  <tbody>\n",
       "    <tr>\n",
       "      <th>1174824778609225729</th>\n",
       "      <td>2019-09-19 23:17:09+00:00</td>\n",
       "      <td>Calling my name again....@lululemon https://t....</td>\n",
       "      <td>keepitrealmom</td>\n",
       "      <td>2019-09-19</td>\n",
       "      <td>tl</td>\n",
       "      <td>Calling my name againlululemon</td>\n",
       "    </tr>\n",
       "    <tr>\n",
       "      <th>1174823497069207552</th>\n",
       "      <td>2019-09-19 23:12:03+00:00</td>\n",
       "      <td>Teacher Appreciation because the lululemon and...</td>\n",
       "      <td>clyealy</td>\n",
       "      <td>2019-09-19</td>\n",
       "      <td>la</td>\n",
       "      <td>Teacher Appreciation because the lululemon and...</td>\n",
       "    </tr>\n",
       "    <tr>\n",
       "      <th>1174811888024281089</th>\n",
       "      <td>2019-09-19 22:25:55+00:00</td>\n",
       "      <td>I need a discount code for @lululemon 😩</td>\n",
       "      <td>itsss_alliiee</td>\n",
       "      <td>2019-09-19</td>\n",
       "      <td>ro</td>\n",
       "      <td>I need a discount code for</td>\n",
       "    </tr>\n",
       "    <tr>\n",
       "      <th>1174810733210742785</th>\n",
       "      <td>2019-09-19 22:21:20+00:00</td>\n",
       "      <td>PSA: llego la colección exclusiva de Robert Ge...</td>\n",
       "      <td>lululemonMX</td>\n",
       "      <td>2019-09-19</td>\n",
       "      <td>es</td>\n",
       "      <td>PSA llego la coleccin exclusiva de Robert Gell...</td>\n",
       "    </tr>\n",
       "    <tr>\n",
       "      <th>1174810080216092672</th>\n",
       "      <td>2019-09-19 22:18:44+00:00</td>\n",
       "      <td>When Life Gives You Lululemon 📖 \\nMe: Buy It A...</td>\n",
       "      <td>Hooorayyy427</td>\n",
       "      <td>2019-09-19</td>\n",
       "      <td>la</td>\n",
       "      <td>When Life Gives You Lululemon Me Buy It All Ta...</td>\n",
       "    </tr>\n",
       "  </tbody>\n",
       "</table>\n",
       "</div>"
      ],
      "text/plain": [
       "                                     timestamp  \\\n",
       "id                                               \n",
       "1174824778609225729  2019-09-19 23:17:09+00:00   \n",
       "1174823497069207552  2019-09-19 23:12:03+00:00   \n",
       "1174811888024281089  2019-09-19 22:25:55+00:00   \n",
       "1174810733210742785  2019-09-19 22:21:20+00:00   \n",
       "1174810080216092672  2019-09-19 22:18:44+00:00   \n",
       "\n",
       "                                                               content  \\\n",
       "id                                                                       \n",
       "1174824778609225729  Calling my name again....@lululemon https://t....   \n",
       "1174823497069207552  Teacher Appreciation because the lululemon and...   \n",
       "1174811888024281089            I need a discount code for @lululemon 😩   \n",
       "1174810733210742785  PSA: llego la colección exclusiva de Robert Ge...   \n",
       "1174810080216092672  When Life Gives You Lululemon 📖 \\nMe: Buy It A...   \n",
       "\n",
       "                          username        date lang  \\\n",
       "id                                                    \n",
       "1174824778609225729  keepitrealmom  2019-09-19   tl   \n",
       "1174823497069207552        clyealy  2019-09-19   la   \n",
       "1174811888024281089  itsss_alliiee  2019-09-19   ro   \n",
       "1174810733210742785    lululemonMX  2019-09-19   es   \n",
       "1174810080216092672   Hooorayyy427  2019-09-19   la   \n",
       "\n",
       "                                                         clean_content  \n",
       "id                                                                      \n",
       "1174824778609225729                     Calling my name againlululemon  \n",
       "1174823497069207552  Teacher Appreciation because the lululemon and...  \n",
       "1174811888024281089                         I need a discount code for  \n",
       "1174810733210742785  PSA llego la coleccin exclusiva de Robert Gell...  \n",
       "1174810080216092672  When Life Gives You Lululemon Me Buy It All Ta...  "
      ]
     },
     "execution_count": 16,
     "metadata": {},
     "output_type": "execute_result"
    }
   ],
   "source": [
    "df_langs.head()"
   ]
  },
  {
   "cell_type": "code",
   "execution_count": 17,
   "metadata": {},
   "outputs": [],
   "source": [
    "i = 0\n",
    "k = 0\n",
    "j = len(df_langs)\n",
    "df_langs.fillna('', inplace=True)\n",
    "df_langs['translated_content'] = ''\n",
    "\n",
    "translator = Translator()\n",
    "\n",
    "while i < j:\n",
    "    temp_row = df_langs.iloc[i]\n",
    "    if (temp_row['translated_content'] != ''):\n",
    "        i += 1\n",
    "        continue\n",
    "    try:\n",
    "        output = translator.translate(temp_row['clean_content'], src=temp_row['lang'], dest='en').text\n",
    "    except:\n",
    "        output = 'nope'\n",
    "    df_langs['translated_content'].iloc[i] = output\n",
    "    i += 1\n",
    "    k += 1\n",
    "    #the break is useful when you are working with large datasets \n",
    "    # and have to do the translation sequentially\n",
    "    #it's not necessary on this sample\n",
    "    if k == 11000:\n",
    "        break"
   ]
  },
  {
   "cell_type": "code",
   "execution_count": 18,
   "metadata": {},
   "outputs": [
    {
     "data": {
      "text/html": [
       "<div>\n",
       "<style scoped>\n",
       "    .dataframe tbody tr th:only-of-type {\n",
       "        vertical-align: middle;\n",
       "    }\n",
       "\n",
       "    .dataframe tbody tr th {\n",
       "        vertical-align: top;\n",
       "    }\n",
       "\n",
       "    .dataframe thead th {\n",
       "        text-align: right;\n",
       "    }\n",
       "</style>\n",
       "<table border=\"1\" class=\"dataframe\">\n",
       "  <thead>\n",
       "    <tr style=\"text-align: right;\">\n",
       "      <th></th>\n",
       "      <th>timestamp</th>\n",
       "      <th>content</th>\n",
       "      <th>username</th>\n",
       "      <th>date</th>\n",
       "      <th>lang</th>\n",
       "      <th>clean_content</th>\n",
       "      <th>translated_content</th>\n",
       "    </tr>\n",
       "    <tr>\n",
       "      <th>id</th>\n",
       "      <th></th>\n",
       "      <th></th>\n",
       "      <th></th>\n",
       "      <th></th>\n",
       "      <th></th>\n",
       "      <th></th>\n",
       "      <th></th>\n",
       "    </tr>\n",
       "  </thead>\n",
       "  <tbody>\n",
       "    <tr>\n",
       "      <th>1174824778609225729</th>\n",
       "      <td>2019-09-19 23:17:09+00:00</td>\n",
       "      <td>Calling my name again....@lululemon https://t....</td>\n",
       "      <td>keepitrealmom</td>\n",
       "      <td>2019-09-19</td>\n",
       "      <td>tl</td>\n",
       "      <td>Calling my name againlululemon</td>\n",
       "      <td>Calling my name againlululemon</td>\n",
       "    </tr>\n",
       "    <tr>\n",
       "      <th>1174823497069207552</th>\n",
       "      <td>2019-09-19 23:12:03+00:00</td>\n",
       "      <td>Teacher Appreciation because the lululemon and...</td>\n",
       "      <td>clyealy</td>\n",
       "      <td>2019-09-19</td>\n",
       "      <td>la</td>\n",
       "      <td>Teacher Appreciation because the lululemon and...</td>\n",
       "      <td>Teacher Appreciation because the lululemon and...</td>\n",
       "    </tr>\n",
       "    <tr>\n",
       "      <th>1174811888024281089</th>\n",
       "      <td>2019-09-19 22:25:55+00:00</td>\n",
       "      <td>I need a discount code for @lululemon 😩</td>\n",
       "      <td>itsss_alliiee</td>\n",
       "      <td>2019-09-19</td>\n",
       "      <td>ro</td>\n",
       "      <td>I need a discount code for</td>\n",
       "      <td>I need a discount code for</td>\n",
       "    </tr>\n",
       "    <tr>\n",
       "      <th>1174810733210742785</th>\n",
       "      <td>2019-09-19 22:21:20+00:00</td>\n",
       "      <td>PSA: llego la colección exclusiva de Robert Ge...</td>\n",
       "      <td>lululemonMX</td>\n",
       "      <td>2019-09-19</td>\n",
       "      <td>es</td>\n",
       "      <td>PSA llego la coleccin exclusiva de Robert Gell...</td>\n",
       "      <td>PSA arrived the exclusive collection of Robert...</td>\n",
       "    </tr>\n",
       "    <tr>\n",
       "      <th>1174810080216092672</th>\n",
       "      <td>2019-09-19 22:18:44+00:00</td>\n",
       "      <td>When Life Gives You Lululemon 📖 \\nMe: Buy It A...</td>\n",
       "      <td>Hooorayyy427</td>\n",
       "      <td>2019-09-19</td>\n",
       "      <td>la</td>\n",
       "      <td>When Life Gives You Lululemon Me Buy It All Ta...</td>\n",
       "      <td>When Life Gives You Lululemon Me Buy It All Ta...</td>\n",
       "    </tr>\n",
       "  </tbody>\n",
       "</table>\n",
       "</div>"
      ],
      "text/plain": [
       "                                     timestamp  \\\n",
       "id                                               \n",
       "1174824778609225729  2019-09-19 23:17:09+00:00   \n",
       "1174823497069207552  2019-09-19 23:12:03+00:00   \n",
       "1174811888024281089  2019-09-19 22:25:55+00:00   \n",
       "1174810733210742785  2019-09-19 22:21:20+00:00   \n",
       "1174810080216092672  2019-09-19 22:18:44+00:00   \n",
       "\n",
       "                                                               content  \\\n",
       "id                                                                       \n",
       "1174824778609225729  Calling my name again....@lululemon https://t....   \n",
       "1174823497069207552  Teacher Appreciation because the lululemon and...   \n",
       "1174811888024281089            I need a discount code for @lululemon 😩   \n",
       "1174810733210742785  PSA: llego la colección exclusiva de Robert Ge...   \n",
       "1174810080216092672  When Life Gives You Lululemon 📖 \\nMe: Buy It A...   \n",
       "\n",
       "                          username        date lang  \\\n",
       "id                                                    \n",
       "1174824778609225729  keepitrealmom  2019-09-19   tl   \n",
       "1174823497069207552        clyealy  2019-09-19   la   \n",
       "1174811888024281089  itsss_alliiee  2019-09-19   ro   \n",
       "1174810733210742785    lululemonMX  2019-09-19   es   \n",
       "1174810080216092672   Hooorayyy427  2019-09-19   la   \n",
       "\n",
       "                                                         clean_content  \\\n",
       "id                                                                       \n",
       "1174824778609225729                     Calling my name againlululemon   \n",
       "1174823497069207552  Teacher Appreciation because the lululemon and...   \n",
       "1174811888024281089                         I need a discount code for   \n",
       "1174810733210742785  PSA llego la coleccin exclusiva de Robert Gell...   \n",
       "1174810080216092672  When Life Gives You Lululemon Me Buy It All Ta...   \n",
       "\n",
       "                                                    translated_content  \n",
       "id                                                                      \n",
       "1174824778609225729                     Calling my name againlululemon  \n",
       "1174823497069207552  Teacher Appreciation because the lululemon and...  \n",
       "1174811888024281089                         I need a discount code for  \n",
       "1174810733210742785  PSA arrived the exclusive collection of Robert...  \n",
       "1174810080216092672  When Life Gives You Lululemon Me Buy It All Ta...  "
      ]
     },
     "execution_count": 18,
     "metadata": {},
     "output_type": "execute_result"
    }
   ],
   "source": [
    "df_langs.head()"
   ]
  },
  {
   "cell_type": "code",
   "execution_count": 19,
   "metadata": {},
   "outputs": [],
   "source": [
    "df_langs['clean_content'] = df_langs['translated_content']"
   ]
  },
  {
   "cell_type": "code",
   "execution_count": 20,
   "metadata": {},
   "outputs": [],
   "source": [
    "df_langs.drop(['translated_content'], axis=1, inplace=True)"
   ]
  },
  {
   "cell_type": "code",
   "execution_count": 22,
   "metadata": {},
   "outputs": [],
   "source": [
    "df_langs.to_csv('tweets_Lululemon_langs_translated.csv')"
   ]
  },
  {
   "cell_type": "markdown",
   "metadata": {},
   "source": [
    "<h3>Now this dataset can be used for the regular sentiment analysis and topic modelling"
   ]
  }
 ],
 "metadata": {
  "interpreter": {
   "hash": "b0fa6594d8f4cbf19f97940f81e996739fb7646882a419484c72d19e05852a7e"
  },
  "kernelspec": {
   "display_name": "Python 3.9.6 64-bit",
   "language": "python",
   "name": "python3"
  },
  "language_info": {
   "codemirror_mode": {
    "name": "ipython",
    "version": 3
   },
   "file_extension": ".py",
   "mimetype": "text/x-python",
   "name": "python",
   "nbconvert_exporter": "python",
   "pygments_lexer": "ipython3",
   "version": "3.9.6"
  },
  "orig_nbformat": 4
 },
 "nbformat": 4,
 "nbformat_minor": 2
}
